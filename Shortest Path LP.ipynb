{
 "cells": [
  {
   "cell_type": "code",
   "execution_count": 19,
   "id": "65c1e29a",
   "metadata": {},
   "outputs": [],
   "source": [
    "from gurobipy import *\n",
    "import matplotlib.pyplot as plt\n",
    "import networkx as nx"
   ]
  },
  {
   "cell_type": "code",
   "execution_count": 20,
   "id": "66fec67e",
   "metadata": {},
   "outputs": [],
   "source": [
    "f = open(\"data.txt\", \"r\")\n",
    "line = f.readline()\n",
    "line = line.strip('\\n')\n",
    "data = line.split(':')\n",
    "num_nodes = int(data[1])\n",
    "line = f.readline()\n",
    "line = line.strip('\\n')\n",
    "data = line.split(':')\n",
    "num_arcs = int(data[1])\n",
    "line = f.readline()\n",
    "line = line.strip('\\n')\n",
    "data = line.split(':')\n",
    "origin = int(data[1])\n",
    "line = f.readline()\n",
    "line = line.strip('\\n')\n",
    "data = line.split(':')\n",
    "destination = int(data[1])\n",
    "line = f.readline()\n",
    "line = f.readline()\n",
    "\n",
    "links = tuplelist()\n",
    "cost  = {}\n",
    "while(len(line)):\n",
    "    line = line.strip('\\n')\n",
    "    data = line.split()\n",
    "    from_node = int(data[0])\n",
    "    to_node = int(data[1])\n",
    "    cost_arc = float(data[2])\n",
    "    links.append((from_node,to_node))\n",
    "    cost[from_node, to_node] = cost_arc\n",
    "    line = f.readline()\n",
    "f.close() "
   ]
  },
  {
   "cell_type": "code",
   "execution_count": 21,
   "id": "048fb298",
   "metadata": {},
   "outputs": [
    {
     "data": {
      "text/plain": [
       "(5,\n",
       " 6,\n",
       " 2.0,\n",
       " <gurobi.tuplelist (9 tuples, 2 values each):\n",
       "  ( 1 , 2 )\n",
       "  ( 1 , 3 )\n",
       "  ( 2 , 3 )\n",
       "  ( 2 , 4 )\n",
       "  ( 2 , 5 )\n",
       "  ( 3 , 5 )\n",
       "  ( 4 , 6 )\n",
       "  ( 5 , 4 )\n",
       "  ( 5 , 6 )\n",
       " >,\n",
       " {(1, 2): 2.0,\n",
       "  (1, 3): 4.0,\n",
       "  (2, 3): 1.0,\n",
       "  (2, 4): 4.0,\n",
       "  (2, 5): 2.0,\n",
       "  (3, 5): 3.0,\n",
       "  (4, 6): 2.0,\n",
       "  (5, 4): 3.0,\n",
       "  (5, 6): 2.0})"
      ]
     },
     "execution_count": 21,
     "metadata": {},
     "output_type": "execute_result"
    }
   ],
   "source": [
    "from_node, to_node, cost_arc, links, cost"
   ]
  },
  {
   "cell_type": "code",
   "execution_count": 22,
   "id": "81ece0a5",
   "metadata": {},
   "outputs": [
    {
     "data": {
      "text/plain": [
       "{(1, 2): 2.0,\n",
       " (1, 3): 4.0,\n",
       " (2, 3): 1.0,\n",
       " (2, 4): 4.0,\n",
       " (2, 5): 2.0,\n",
       " (3, 5): 3.0,\n",
       " (4, 6): 2.0,\n",
       " (5, 4): 3.0,\n",
       " (5, 6): 2.0}"
      ]
     },
     "execution_count": 22,
     "metadata": {},
     "output_type": "execute_result"
    }
   ],
   "source": [
    "cost"
   ]
  },
  {
   "cell_type": "code",
   "execution_count": 35,
   "id": "8415b78b",
   "metadata": {},
   "outputs": [],
   "source": [
    "m = Model('SP')\n",
    "x = m.addVars(links, obj=cost, name =\"flow\")"
   ]
  },
  {
   "cell_type": "code",
   "execution_count": 36,
   "id": "3d3fa555",
   "metadata": {},
   "outputs": [
    {
     "data": {
      "text/plain": [
       "(1, [5, 6])"
      ]
     },
     "execution_count": 36,
     "metadata": {},
     "output_type": "execute_result"
    }
   ],
   "source": [
    "origin, destination"
   ]
  },
  {
   "cell_type": "code",
   "execution_count": 40,
   "id": "4f502969",
   "metadata": {},
   "outputs": [],
   "source": [
    "destination = [3, 6]"
   ]
  },
  {
   "cell_type": "code",
   "execution_count": 41,
   "id": "546a9410",
   "metadata": {},
   "outputs": [
    {
     "name": "stdout",
     "output_type": "stream",
     "text": [
      "Gurobi Optimizer version 9.5.2 build v9.5.2rc0 (linux64)\n",
      "Thread count: 4 physical cores, 8 logical processors, using up to 8 threads\n",
      "Optimize a model with 12 rows, 9 columns and 36 nonzeros\n",
      "Coefficient statistics:\n",
      "  Matrix range     [1e+00, 1e+00]\n",
      "  Objective range  [1e+00, 4e+00]\n",
      "  Bounds range     [0e+00, 0e+00]\n",
      "  RHS range        [1e+00, 2e+00]\n",
      "Iteration    Objective       Primal Inf.    Dual Inf.      Time\n",
      "       0    1.2000000e+01   2.000000e+00   0.000000e+00      0s\n",
      "\n",
      "Solved in 0 iterations and 0.01 seconds (0.00 work units)\n",
      "Infeasible model\n"
     ]
    }
   ],
   "source": [
    "for i in range(1, num_nodes+1):\n",
    "    m.addConstr(sum(x[i,j] for i,j in links.select(i, '*')) - sum(x[j,i] for j,i in links.select('*',i)) == \n",
    "                     (2 if i==origin else -1 if i in destination else 0 ),'node%s_' % i )\n",
    "\n",
    "m.optimize()"
   ]
  },
  {
   "cell_type": "code",
   "execution_count": 42,
   "id": "13e0d409",
   "metadata": {},
   "outputs": [],
   "source": [
    "if m.status == GRB.Status.OPTIMAL:\n",
    "    print('The final solution is:')\n",
    "    for i,j in links:\n",
    "        if(x[i,j].x > 0):\n",
    "            print(i, j, x[i,j].x)"
   ]
  },
  {
   "cell_type": "code",
   "execution_count": 16,
   "id": "00554852",
   "metadata": {},
   "outputs": [
    {
     "data": {
      "image/png": "[encoded data removed]",
      "text/plain": [
       "<Figure size 640x480 with 1 Axes>"
      ]
     },
     "metadata": {},
     "output_type": "display_data"
    }
   ],
   "source": [
    "G=nx.DiGraph()\n",
    "list_nodes = list(range(1, num_nodes+1))\n",
    "G.add_nodes_from(list_nodes)\n",
    "for i,j in links:\n",
    "    G.add_edge(i,j)\n",
    "\n",
    "# Adding the position attribute to each node\n",
    "node_pos = {1: (0, 0), 2: (2, 2), 3: (2, -2), 4: (5, 2), 5: (5, -2), 6: (7, 0)}\n",
    "\n",
    "# Create a list of edges in shortest path\n",
    "red_edges = [(i,j) for i,j in links if x[i,j].x > 0]\n",
    "\n",
    "#Create a list of nodes in shortest path\n",
    "sp = [ i for i,j in links if x[i,j].x > 0 ]\n",
    "sp.append(destination)\n",
    "\n",
    "# If the node is in the shortest path, set it to red, else set it to white color\n",
    "node_col = ['white' if not node in sp else 'red' for node in G.nodes()]\n",
    "# If the edge is in the shortest path set it to red, else set it to white color\n",
    "edge_col = ['black' if not edge in red_edges else 'red' for edge in G.edges()]\n",
    "# Draw the nodes\n",
    "nx.draw_networkx(G, node_pos, node_color= node_col, node_size=450)\n",
    "# Draw the node labels\n",
    "# nx.draw_networkx_labels(G1, node_pos,node_color= node_col)\n",
    "# Draw the edges\n",
    "nx.draw_networkx_edges(G, node_pos,edge_color= edge_col)\n",
    "# Draw the edge labels\n",
    "# nx.draw_networkx_edge_labels(G, node_pos, edge_labels=cost)\n",
    "# Remove the axis\n",
    "plt.axis('off')\n",
    "\n",
    "# Show the plot\n",
    "plt.show()"
   ]
  }
 ],
 "metadata": {
  "kernelspec": {
   "display_name": "Python 3 (ipykernel)",
   "language": "python",
   "name": "python3"
  },
  "language_info": {
   "codemirror_mode": {
    "name": "ipython",
    "version": 3
   },
   "file_extension": ".py",
   "mimetype": "text/x-python",
   "name": "python",
   "nbconvert_exporter": "python",
   "pygments_lexer": "ipython3",
   "version": "3.9.12"
  }
 },
 "nbformat": 4,
 "nbformat_minor": 5
}
